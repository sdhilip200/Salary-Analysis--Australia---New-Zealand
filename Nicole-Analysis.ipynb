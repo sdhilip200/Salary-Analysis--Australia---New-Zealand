{
 "cells": [
  {
   "cell_type": "code",
   "execution_count": 1,
   "metadata": {},
   "outputs": [],
   "source": [
    "import os\n",
    "import pandas as pd\n",
    "import numpy as np\n",
    "from matplotlib import pyplot as plt"
   ]
  },
  {
   "cell_type": "code",
   "execution_count": 2,
   "metadata": {},
   "outputs": [],
   "source": [
    "import re\n",
    "import seaborn as sns"
   ]
  },
  {
   "cell_type": "code",
   "execution_count": 3,
   "metadata": {},
   "outputs": [
    {
     "data": {
      "text/plain": [
       "'/Users/nicoleramirez/Desktop/SummerWork2019/Projects/Salary-Analysis--Australia---New-Zealand'"
      ]
     },
     "execution_count": 3,
     "metadata": {},
     "output_type": "execute_result"
    }
   ],
   "source": [
    "os.getcwd()"
   ]
  },
  {
   "cell_type": "code",
   "execution_count": 4,
   "metadata": {},
   "outputs": [],
   "source": [
    "#initial analysis of glassdoor salary data\n",
    "glassDoorDf = pd.read_csv(\"glassDoorReviews/Data-Professional-Salaries-Master.csv\")"
   ]
  },
  {
   "cell_type": "code",
   "execution_count": 5,
   "metadata": {},
   "outputs": [
    {
     "name": "stdout",
     "output_type": "stream",
     "text": [
      "(27100, 5)\n"
     ]
    }
   ],
   "source": [
    "print(glassDoorDf.shape)"
   ]
  },
  {
   "cell_type": "code",
   "execution_count": 6,
   "metadata": {},
   "outputs": [
    {
     "data": {
      "text/plain": [
       "Index(['companyName', 'jobTitle', 'location', 'meanPay', 'payRange'], dtype='object')"
      ]
     },
     "execution_count": 6,
     "metadata": {},
     "output_type": "execute_result"
    }
   ],
   "source": [
    "glassDoorDf.columns"
   ]
  },
  {
   "cell_type": "code",
   "execution_count": 7,
   "metadata": {},
   "outputs": [
    {
     "name": "stdout",
     "output_type": "stream",
     "text": [
      "<class 'pandas.core.frame.DataFrame'>\n",
      "RangeIndex: 27100 entries, 0 to 27099\n",
      "Data columns (total 5 columns):\n",
      "companyName    27098 non-null object\n",
      "jobTitle       27100 non-null object\n",
      "location       27100 non-null object\n",
      "meanPay        27100 non-null object\n",
      "payRange       24040 non-null object\n",
      "dtypes: object(5)\n",
      "memory usage: 1.0+ MB\n"
     ]
    }
   ],
   "source": [
    "glassDoorDf.info()"
   ]
  },
  {
   "cell_type": "code",
   "execution_count": 8,
   "metadata": {},
   "outputs": [],
   "source": [
    "#typecast meanPay to int. First remove $ and , symbols from pay\n",
    "glassDoorDf['meanPay'] = glassDoorDf['meanPay'].apply(lambda x: re.sub(\"[^0-9\\s]\",\"\",x))"
   ]
  },
  {
   "cell_type": "code",
   "execution_count": 9,
   "metadata": {},
   "outputs": [],
   "source": [
    "glassDoorDf['meanPay'] = glassDoorDf['meanPay'].astype(int)"
   ]
  },
  {
   "cell_type": "code",
   "execution_count": 10,
   "metadata": {},
   "outputs": [
    {
     "name": "stdout",
     "output_type": "stream",
     "text": [
      "<class 'pandas.core.frame.DataFrame'>\n",
      "RangeIndex: 27100 entries, 0 to 27099\n",
      "Data columns (total 5 columns):\n",
      "companyName    27098 non-null object\n",
      "jobTitle       27100 non-null object\n",
      "location       27100 non-null object\n",
      "meanPay        27100 non-null int64\n",
      "payRange       24040 non-null object\n",
      "dtypes: int64(1), object(4)\n",
      "memory usage: 1.0+ MB\n"
     ]
    }
   ],
   "source": [
    "glassDoorDf.info()"
   ]
  },
  {
   "cell_type": "code",
   "execution_count": 11,
   "metadata": {},
   "outputs": [
    {
     "data": {
      "text/html": [
       "<div>\n",
       "<style scoped>\n",
       "    .dataframe tbody tr th:only-of-type {\n",
       "        vertical-align: middle;\n",
       "    }\n",
       "\n",
       "    .dataframe tbody tr th {\n",
       "        vertical-align: top;\n",
       "    }\n",
       "\n",
       "    .dataframe thead th {\n",
       "        text-align: right;\n",
       "    }\n",
       "</style>\n",
       "<table border=\"1\" class=\"dataframe\">\n",
       "  <thead>\n",
       "    <tr style=\"text-align: right;\">\n",
       "      <th></th>\n",
       "      <th>companyName</th>\n",
       "      <th>jobTitle</th>\n",
       "      <th>location</th>\n",
       "      <th>meanPay</th>\n",
       "      <th>payRange</th>\n",
       "    </tr>\n",
       "  </thead>\n",
       "  <tbody>\n",
       "    <tr>\n",
       "      <th>4789</th>\n",
       "      <td>FICO</td>\n",
       "      <td>Data Scientist</td>\n",
       "      <td>United States</td>\n",
       "      <td>95698</td>\n",
       "      <td>$90K - $101K</td>\n",
       "    </tr>\n",
       "    <tr>\n",
       "      <th>14244</th>\n",
       "      <td>JT4</td>\n",
       "      <td>Data Analyst</td>\n",
       "      <td>United States</td>\n",
       "      <td>61905</td>\n",
       "      <td>$59K - $65K</td>\n",
       "    </tr>\n",
       "    <tr>\n",
       "      <th>9655</th>\n",
       "      <td>Averro</td>\n",
       "      <td>Data Engineer - Hourly</td>\n",
       "      <td>United States</td>\n",
       "      <td>45</td>\n",
       "      <td>$43 - $47</td>\n",
       "    </tr>\n",
       "    <tr>\n",
       "      <th>21890</th>\n",
       "      <td>HSBC Holdings</td>\n",
       "      <td>Anti - Money Laundering Data Analyst</td>\n",
       "      <td>United States</td>\n",
       "      <td>67894</td>\n",
       "      <td>$65K - $70K</td>\n",
       "    </tr>\n",
       "    <tr>\n",
       "      <th>9701</th>\n",
       "      <td>Home Chef</td>\n",
       "      <td>Data Engineer</td>\n",
       "      <td>United States</td>\n",
       "      <td>122187</td>\n",
       "      <td>$116K - $127K</td>\n",
       "    </tr>\n",
       "    <tr>\n",
       "      <th>12000</th>\n",
       "      <td>Micron Technology</td>\n",
       "      <td>Senior Data Engineer</td>\n",
       "      <td>United States</td>\n",
       "      <td>113263</td>\n",
       "      <td>$108K - $118K</td>\n",
       "    </tr>\n",
       "    <tr>\n",
       "      <th>25253</th>\n",
       "      <td>Amazon</td>\n",
       "      <td>Linguistic Data Analyst - Hourly</td>\n",
       "      <td>United States</td>\n",
       "      <td>15</td>\n",
       "      <td>$14 - $15</td>\n",
       "    </tr>\n",
       "    <tr>\n",
       "      <th>27046</th>\n",
       "      <td>MRM</td>\n",
       "      <td>Associate Data Analyst</td>\n",
       "      <td>United States</td>\n",
       "      <td>79650</td>\n",
       "      <td>$76K - $82K</td>\n",
       "    </tr>\n",
       "    <tr>\n",
       "      <th>22704</th>\n",
       "      <td>Matrix Human Services</td>\n",
       "      <td>Associate Data Analyst - Hourly</td>\n",
       "      <td>United States</td>\n",
       "      <td>17</td>\n",
       "      <td>$16 - $18</td>\n",
       "    </tr>\n",
       "    <tr>\n",
       "      <th>13459</th>\n",
       "      <td>Columbia International University</td>\n",
       "      <td>Data Analyst</td>\n",
       "      <td>United States</td>\n",
       "      <td>63513</td>\n",
       "      <td>NaN</td>\n",
       "    </tr>\n",
       "  </tbody>\n",
       "</table>\n",
       "</div>"
      ],
      "text/plain": [
       "                             companyName  \\\n",
       "4789                                FICO   \n",
       "14244                                JT4   \n",
       "9655                              Averro   \n",
       "21890                      HSBC Holdings   \n",
       "9701                           Home Chef   \n",
       "12000                  Micron Technology   \n",
       "25253                             Amazon   \n",
       "27046                                MRM   \n",
       "22704              Matrix Human Services   \n",
       "13459  Columbia International University   \n",
       "\n",
       "                                   jobTitle       location  meanPay  \\\n",
       "4789                         Data Scientist  United States    95698   \n",
       "14244                          Data Analyst  United States    61905   \n",
       "9655                 Data Engineer - Hourly  United States       45   \n",
       "21890  Anti - Money Laundering Data Analyst  United States    67894   \n",
       "9701                          Data Engineer  United States   122187   \n",
       "12000                  Senior Data Engineer  United States   113263   \n",
       "25253      Linguistic Data Analyst - Hourly  United States       15   \n",
       "27046                Associate Data Analyst  United States    79650   \n",
       "22704       Associate Data Analyst - Hourly  United States       17   \n",
       "13459                          Data Analyst  United States    63513   \n",
       "\n",
       "            payRange  \n",
       "4789    $90K - $101K  \n",
       "14244    $59K - $65K  \n",
       "9655       $43 - $47  \n",
       "21890    $65K - $70K  \n",
       "9701   $116K - $127K  \n",
       "12000  $108K - $118K  \n",
       "25253      $14 - $15  \n",
       "27046    $76K - $82K  \n",
       "22704      $16 - $18  \n",
       "13459            NaN  "
      ]
     },
     "execution_count": 11,
     "metadata": {},
     "output_type": "execute_result"
    }
   ],
   "source": [
    "glassDoorDf.sample(10)"
   ]
  },
  {
   "cell_type": "code",
   "execution_count": 12,
   "metadata": {},
   "outputs": [
    {
     "data": {
      "text/plain": [
       "companyName       2\n",
       "jobTitle          0\n",
       "location          0\n",
       "meanPay           0\n",
       "payRange       3060\n",
       "dtype: int64"
      ]
     },
     "execution_count": 12,
     "metadata": {},
     "output_type": "execute_result"
    }
   ],
   "source": [
    "glassDoorDf.isnull().sum()"
   ]
  },
  {
   "cell_type": "code",
   "execution_count": 13,
   "metadata": {},
   "outputs": [
    {
     "data": {
      "text/plain": [
       "\"\\nWays to clean the data I'm coming across:\\n-remove or impute NaN/null values for payRange\\n-investigate null values for companyName\\n-Normalise salaries to NZD (since we're doing analysis from here?)\\n\\nWays to feature engineer:\\n-Extract Field from job title(Biology, Finance, Etc)\\n-extract seniority level (junior, graduate, senior, associate, intern, Chief, etc)\\n-Extract other information such as funky titles (i.e. data applications engineer, etc)\\n\""
      ]
     },
     "execution_count": 13,
     "metadata": {},
     "output_type": "execute_result"
    }
   ],
   "source": [
    "\"\"\"\n",
    "Ways to clean the data I'm coming across:\n",
    "-remove or impute NaN/null values for payRange\n",
    "-investigate null values for companyName\n",
    "-Normalise salaries to NZD (since we're doing analysis from here?)\n",
    "\n",
    "Ways to feature engineer:\n",
    "-Extract Field from job title(Biology, Finance, Etc)\n",
    "-extract seniority level (junior, graduate, senior, associate, intern, Chief, etc)\n",
    "-Extract other information such as funky titles (i.e. data applications engineer, etc)\n",
    "\"\"\""
   ]
  },
  {
   "cell_type": "code",
   "execution_count": 14,
   "metadata": {},
   "outputs": [
    {
     "data": {
      "text/plain": [
       "array(['United States', 'New Zealand', 'Australia'], dtype=object)"
      ]
     },
     "execution_count": 14,
     "metadata": {},
     "output_type": "execute_result"
    }
   ],
   "source": [
    "glassDoorDf['location'].unique()"
   ]
  },
  {
   "cell_type": "code",
   "execution_count": 15,
   "metadata": {},
   "outputs": [
    {
     "data": {
      "text/plain": [
       "158"
      ]
     },
     "execution_count": 15,
     "metadata": {},
     "output_type": "execute_result"
    }
   ],
   "source": [
    "#the number of data science-type job titles available in our data-set\n",
    "len(glassDoorDf[glassDoorDf.jobTitle.str.contains(\"Data Scien*\")]['jobTitle'].unique())"
   ]
  },
  {
   "cell_type": "code",
   "execution_count": 16,
   "metadata": {},
   "outputs": [
    {
     "data": {
      "text/plain": [
       "1802"
      ]
     },
     "execution_count": 16,
     "metadata": {},
     "output_type": "execute_result"
    }
   ],
   "source": [
    "len(glassDoorDf[glassDoorDf.jobTitle.str.contains(\"Analy*\")]['jobTitle'].unique())"
   ]
  },
  {
   "cell_type": "code",
   "execution_count": 17,
   "metadata": {},
   "outputs": [
    {
     "data": {
      "text/plain": [
       "117"
      ]
     },
     "execution_count": 17,
     "metadata": {},
     "output_type": "execute_result"
    }
   ],
   "source": [
    "len(glassDoorDf[glassDoorDf.jobTitle.str.contains(\"Data Engineer*\")]['jobTitle'].unique())"
   ]
  },
  {
   "cell_type": "code",
   "execution_count": 18,
   "metadata": {},
   "outputs": [
    {
     "data": {
      "text/plain": [
       "60"
      ]
     },
     "execution_count": 18,
     "metadata": {},
     "output_type": "execute_result"
    }
   ],
   "source": [
    "len(glassDoorDf[glassDoorDf.jobTitle.str.contains(\"Machine Learning*\")]['jobTitle'].unique())"
   ]
  },
  {
   "cell_type": "code",
   "execution_count": 19,
   "metadata": {},
   "outputs": [],
   "source": [
    "#create a 6th column, categorising job titles into data scientist, analyst, engineer, machine learning professionals\n",
    "glassDoorDf['jobCategory'] = \"N/A\" #initialise with N/A "
   ]
  },
  {
   "cell_type": "code",
   "execution_count": 20,
   "metadata": {},
   "outputs": [
    {
     "name": "stderr",
     "output_type": "stream",
     "text": [
      "/anaconda2/lib/python3.7/site-packages/pandas/core/indexing.py:190: SettingWithCopyWarning: \n",
      "A value is trying to be set on a copy of a slice from a DataFrame\n",
      "\n",
      "See the caveats in the documentation: http://pandas.pydata.org/pandas-docs/stable/indexing.html#indexing-view-versus-copy\n",
      "  self._setitem_with_indexer(indexer, value)\n"
     ]
    }
   ],
   "source": [
    "glassDoorDf['jobCategory'].loc[glassDoorDf.jobTitle.str.contains(\"Data Scien*\")] = \"Data Science\"\n",
    "glassDoorDf['jobCategory'].loc[glassDoorDf.jobTitle.str.contains(\"Analy*\")] = \"Data Analysis\"\n",
    "glassDoorDf['jobCategory'].loc[glassDoorDf.jobTitle.str.contains(\"Data Engineer*\")] = \"Data Engineering\"\n",
    "glassDoorDf['jobCategory'].loc[glassDoorDf.jobTitle.str.contains(\"Machine Learn*\")] = \"Machine Learning\""
   ]
  },
  {
   "cell_type": "code",
   "execution_count": 21,
   "metadata": {},
   "outputs": [
    {
     "data": {
      "text/plain": [
       "897"
      ]
     },
     "execution_count": 21,
     "metadata": {},
     "output_type": "execute_result"
    }
   ],
   "source": [
    "#the number of jobs not categorised as any of the above\n",
    "len(glassDoorDf[glassDoorDf['jobCategory']=='N/A'])"
   ]
  },
  {
   "cell_type": "code",
   "execution_count": 22,
   "metadata": {},
   "outputs": [
    {
     "data": {
      "text/html": [
       "<div>\n",
       "<style scoped>\n",
       "    .dataframe tbody tr th:only-of-type {\n",
       "        vertical-align: middle;\n",
       "    }\n",
       "\n",
       "    .dataframe tbody tr th {\n",
       "        vertical-align: top;\n",
       "    }\n",
       "\n",
       "    .dataframe thead th {\n",
       "        text-align: right;\n",
       "    }\n",
       "</style>\n",
       "<table border=\"1\" class=\"dataframe\">\n",
       "  <thead>\n",
       "    <tr style=\"text-align: right;\">\n",
       "      <th></th>\n",
       "      <th>companyName</th>\n",
       "      <th>jobTitle</th>\n",
       "      <th>location</th>\n",
       "      <th>meanPay</th>\n",
       "      <th>payRange</th>\n",
       "      <th>jobCategory</th>\n",
       "    </tr>\n",
       "  </thead>\n",
       "  <tbody>\n",
       "    <tr>\n",
       "      <th>11056</th>\n",
       "      <td>Tom Sawyer Software</td>\n",
       "      <td>Data Visualization Engineer</td>\n",
       "      <td>United States</td>\n",
       "      <td>80043</td>\n",
       "      <td>$77K - $84K</td>\n",
       "      <td>N/A</td>\n",
       "    </tr>\n",
       "    <tr>\n",
       "      <th>10669</th>\n",
       "      <td>Tierpoint</td>\n",
       "      <td>Data Center Engineer</td>\n",
       "      <td>United States</td>\n",
       "      <td>55460</td>\n",
       "      <td>$52K - $60K</td>\n",
       "      <td>N/A</td>\n",
       "    </tr>\n",
       "    <tr>\n",
       "      <th>11927</th>\n",
       "      <td>Apex Systems</td>\n",
       "      <td>Data Center Engineer - Contractor</td>\n",
       "      <td>United States</td>\n",
       "      <td>84199</td>\n",
       "      <td>$80K - $87K</td>\n",
       "      <td>N/A</td>\n",
       "    </tr>\n",
       "    <tr>\n",
       "      <th>11735</th>\n",
       "      <td>Groupon</td>\n",
       "      <td>Staff Data Software Engineer</td>\n",
       "      <td>United States</td>\n",
       "      <td>206132</td>\n",
       "      <td>$197K - $216K</td>\n",
       "      <td>N/A</td>\n",
       "    </tr>\n",
       "    <tr>\n",
       "      <th>11720</th>\n",
       "      <td>Internap Corporation</td>\n",
       "      <td>Data Center Operations Engineer</td>\n",
       "      <td>United States</td>\n",
       "      <td>65043</td>\n",
       "      <td>$63K - $67K</td>\n",
       "      <td>N/A</td>\n",
       "    </tr>\n",
       "    <tr>\n",
       "      <th>11565</th>\n",
       "      <td>ProspX</td>\n",
       "      <td>Senior Data Integration Engineer</td>\n",
       "      <td>United States</td>\n",
       "      <td>82677</td>\n",
       "      <td>$79K - $85K</td>\n",
       "      <td>N/A</td>\n",
       "    </tr>\n",
       "    <tr>\n",
       "      <th>11912</th>\n",
       "      <td>Amazon</td>\n",
       "      <td>Data Mining Engineer</td>\n",
       "      <td>United States</td>\n",
       "      <td>106368</td>\n",
       "      <td>$101K - $111K</td>\n",
       "      <td>N/A</td>\n",
       "    </tr>\n",
       "    <tr>\n",
       "      <th>10439</th>\n",
       "      <td>MySpace</td>\n",
       "      <td>Data Warehouse Engineer</td>\n",
       "      <td>United States</td>\n",
       "      <td>125755</td>\n",
       "      <td>NaN</td>\n",
       "      <td>N/A</td>\n",
       "    </tr>\n",
       "    <tr>\n",
       "      <th>12247</th>\n",
       "      <td>Computer Design and Integration</td>\n",
       "      <td>Data Center Engineer</td>\n",
       "      <td>United States</td>\n",
       "      <td>122332</td>\n",
       "      <td>$117K - $127K</td>\n",
       "      <td>N/A</td>\n",
       "    </tr>\n",
       "    <tr>\n",
       "      <th>12371</th>\n",
       "      <td>Shutterfly</td>\n",
       "      <td>Senior Lead Engineer Data Integration</td>\n",
       "      <td>United States</td>\n",
       "      <td>156784</td>\n",
       "      <td>$151K - $163K</td>\n",
       "      <td>N/A</td>\n",
       "    </tr>\n",
       "    <tr>\n",
       "      <th>10732</th>\n",
       "      <td>Retail Solutions</td>\n",
       "      <td>Senior Data Warehouse Engineer</td>\n",
       "      <td>United States</td>\n",
       "      <td>112867</td>\n",
       "      <td>$96K - $132K</td>\n",
       "      <td>N/A</td>\n",
       "    </tr>\n",
       "    <tr>\n",
       "      <th>10351</th>\n",
       "      <td>Epic</td>\n",
       "      <td>Electronic Data Interchange Engineer</td>\n",
       "      <td>United States</td>\n",
       "      <td>115033</td>\n",
       "      <td>NaN</td>\n",
       "      <td>N/A</td>\n",
       "    </tr>\n",
       "    <tr>\n",
       "      <th>10451</th>\n",
       "      <td>System Soft Technologies</td>\n",
       "      <td>Software Engineer (Senior Data Migration Consu...</td>\n",
       "      <td>United States</td>\n",
       "      <td>72469</td>\n",
       "      <td>NaN</td>\n",
       "      <td>N/A</td>\n",
       "    </tr>\n",
       "    <tr>\n",
       "      <th>12005</th>\n",
       "      <td>Intercontinental Exchange</td>\n",
       "      <td>Data Center Engineer</td>\n",
       "      <td>United States</td>\n",
       "      <td>51089</td>\n",
       "      <td>$49K - $54K</td>\n",
       "      <td>N/A</td>\n",
       "    </tr>\n",
       "    <tr>\n",
       "      <th>11144</th>\n",
       "      <td>Ubisoft</td>\n",
       "      <td>Data Warehouse Engineer</td>\n",
       "      <td>United States</td>\n",
       "      <td>110599</td>\n",
       "      <td>$106K - $114K</td>\n",
       "      <td>N/A</td>\n",
       "    </tr>\n",
       "    <tr>\n",
       "      <th>11166</th>\n",
       "      <td>J.P. Morgan</td>\n",
       "      <td>Data Center Operations Engineer - Hourly</td>\n",
       "      <td>United States</td>\n",
       "      <td>41</td>\n",
       "      <td>$39 - $43</td>\n",
       "      <td>N/A</td>\n",
       "    </tr>\n",
       "    <tr>\n",
       "      <th>10848</th>\n",
       "      <td>Kabbage</td>\n",
       "      <td>Data Warehouse Engineer</td>\n",
       "      <td>United States</td>\n",
       "      <td>88497</td>\n",
       "      <td>$86K - $92K</td>\n",
       "      <td>N/A</td>\n",
       "    </tr>\n",
       "    <tr>\n",
       "      <th>10796</th>\n",
       "      <td>Inforsense</td>\n",
       "      <td>Data Mining Support Engineer</td>\n",
       "      <td>United States</td>\n",
       "      <td>77683</td>\n",
       "      <td>$75K - $80K</td>\n",
       "      <td>N/A</td>\n",
       "    </tr>\n",
       "    <tr>\n",
       "      <th>9002</th>\n",
       "      <td>Commonwealth Bank of Australia</td>\n",
       "      <td>Data Visualisation - Intern</td>\n",
       "      <td>Australia</td>\n",
       "      <td>52581</td>\n",
       "      <td>A$50K - A$55K</td>\n",
       "      <td>N/A</td>\n",
       "    </tr>\n",
       "    <tr>\n",
       "      <th>10597</th>\n",
       "      <td>OwnerIQ</td>\n",
       "      <td>Data Mining Engineer</td>\n",
       "      <td>United States</td>\n",
       "      <td>60307</td>\n",
       "      <td>$58K - $63K</td>\n",
       "      <td>N/A</td>\n",
       "    </tr>\n",
       "  </tbody>\n",
       "</table>\n",
       "</div>"
      ],
      "text/plain": [
       "                           companyName  \\\n",
       "11056              Tom Sawyer Software   \n",
       "10669                        Tierpoint   \n",
       "11927                     Apex Systems   \n",
       "11735                          Groupon   \n",
       "11720             Internap Corporation   \n",
       "11565                           ProspX   \n",
       "11912                           Amazon   \n",
       "10439                          MySpace   \n",
       "12247  Computer Design and Integration   \n",
       "12371                       Shutterfly   \n",
       "10732                 Retail Solutions   \n",
       "10351                             Epic   \n",
       "10451         System Soft Technologies   \n",
       "12005        Intercontinental Exchange   \n",
       "11144                          Ubisoft   \n",
       "11166                      J.P. Morgan   \n",
       "10848                          Kabbage   \n",
       "10796                       Inforsense   \n",
       "9002    Commonwealth Bank of Australia   \n",
       "10597                          OwnerIQ   \n",
       "\n",
       "                                                jobTitle       location  \\\n",
       "11056                        Data Visualization Engineer  United States   \n",
       "10669                               Data Center Engineer  United States   \n",
       "11927                  Data Center Engineer - Contractor  United States   \n",
       "11735                       Staff Data Software Engineer  United States   \n",
       "11720                    Data Center Operations Engineer  United States   \n",
       "11565                   Senior Data Integration Engineer  United States   \n",
       "11912                               Data Mining Engineer  United States   \n",
       "10439                            Data Warehouse Engineer  United States   \n",
       "12247                               Data Center Engineer  United States   \n",
       "12371              Senior Lead Engineer Data Integration  United States   \n",
       "10732                     Senior Data Warehouse Engineer  United States   \n",
       "10351               Electronic Data Interchange Engineer  United States   \n",
       "10451  Software Engineer (Senior Data Migration Consu...  United States   \n",
       "12005                               Data Center Engineer  United States   \n",
       "11144                            Data Warehouse Engineer  United States   \n",
       "11166           Data Center Operations Engineer - Hourly  United States   \n",
       "10848                            Data Warehouse Engineer  United States   \n",
       "10796                       Data Mining Support Engineer  United States   \n",
       "9002                         Data Visualisation - Intern      Australia   \n",
       "10597                               Data Mining Engineer  United States   \n",
       "\n",
       "       meanPay       payRange jobCategory  \n",
       "11056    80043    $77K - $84K         N/A  \n",
       "10669    55460    $52K - $60K         N/A  \n",
       "11927    84199    $80K - $87K         N/A  \n",
       "11735   206132  $197K - $216K         N/A  \n",
       "11720    65043    $63K - $67K         N/A  \n",
       "11565    82677    $79K - $85K         N/A  \n",
       "11912   106368  $101K - $111K         N/A  \n",
       "10439   125755            NaN         N/A  \n",
       "12247   122332  $117K - $127K         N/A  \n",
       "12371   156784  $151K - $163K         N/A  \n",
       "10732   112867   $96K - $132K         N/A  \n",
       "10351   115033            NaN         N/A  \n",
       "10451    72469            NaN         N/A  \n",
       "12005    51089    $49K - $54K         N/A  \n",
       "11144   110599  $106K - $114K         N/A  \n",
       "11166       41      $39 - $43         N/A  \n",
       "10848    88497    $86K - $92K         N/A  \n",
       "10796    77683    $75K - $80K         N/A  \n",
       "9002     52581  A$50K - A$55K         N/A  \n",
       "10597    60307    $58K - $63K         N/A  "
      ]
     },
     "execution_count": 22,
     "metadata": {},
     "output_type": "execute_result"
    }
   ],
   "source": [
    "#and examples of those jobs\n",
    "glassDoorDf[glassDoorDf['jobCategory']=='N/A'].sample(20)"
   ]
  },
  {
   "cell_type": "code",
   "execution_count": 87,
   "metadata": {},
   "outputs": [
    {
     "ename": "SyntaxError",
     "evalue": "invalid syntax (<ipython-input-87-737f60979ee1>, line 3)",
     "output_type": "error",
     "traceback": [
      "\u001b[0;36m  File \u001b[0;32m\"<ipython-input-87-737f60979ee1>\"\u001b[0;36m, line \u001b[0;32m3\u001b[0m\n\u001b[0;31m    glassDoorDf['payRange'].str.split(\"-\").str[0].str.split(\"$\").str[1].apply(lambda x: if type(x) is str: print(x) else pass)\u001b[0m\n\u001b[0m                                                                                         ^\u001b[0m\n\u001b[0;31mSyntaxError\u001b[0m\u001b[0;31m:\u001b[0m invalid syntax\n"
     ]
    }
   ],
   "source": [
    "#to make payRange column useful, split it into 2 columns: payFloor and payCeiling\n",
    "#making payFloor column\n",
    "glassDoorDf['payRange'].str.split(\"-\").str[0].str.split(\"$\").str[1].apply(lambda x: if"
   ]
  },
  {
   "cell_type": "code",
   "execution_count": 71,
   "metadata": {},
   "outputs": [
    {
     "data": {
      "text/plain": [
       "0          NaN\n",
       "1          NaN\n",
       "2          NaN\n",
       "3          NaN\n",
       "4          NaN\n",
       "5          NaN\n",
       "6          NaN\n",
       "7          NaN\n",
       "8          NaN\n",
       "9          NaN\n",
       "10         NaN\n",
       "11         NaN\n",
       "12         NaN\n",
       "13         NaN\n",
       "14         NaN\n",
       "15         NaN\n",
       "16         NaN\n",
       "17         NaN\n",
       "18         NaN\n",
       "19         NaN\n",
       "20         NaN\n",
       "21         NaN\n",
       "22         NaN\n",
       "23         NaN\n",
       "24         NaN\n",
       "25         NaN\n",
       "26         NaN\n",
       "27         NaN\n",
       "28         NaN\n",
       "29         NaN\n",
       "         ...  \n",
       "27070     64K \n",
       "27071     45K \n",
       "27072     41K \n",
       "27073     83K \n",
       "27074     58K \n",
       "27075     65K \n",
       "27076     59K \n",
       "27077    100K \n",
       "27078      23 \n",
       "27079     70K \n",
       "27080     68K \n",
       "27081     57K \n",
       "27082     53K \n",
       "27083     58K \n",
       "27084     78K \n",
       "27085     79K \n",
       "27086     51K \n",
       "27087      33 \n",
       "27088     69K \n",
       "27089      12 \n",
       "27090     64K \n",
       "27091     26K \n",
       "27092      16 \n",
       "27093    108K \n",
       "27094     60K \n",
       "27095     73K \n",
       "27096     97K \n",
       "27097     64K \n",
       "27098     92K \n",
       "27099     72K \n",
       "Name: payFloor, Length: 27100, dtype: object"
      ]
     },
     "execution_count": 71,
     "metadata": {},
     "output_type": "execute_result"
    }
   ],
   "source": [
    "glassDoorDf['payFloor']"
   ]
  },
  {
   "cell_type": "code",
   "execution_count": 23,
   "metadata": {},
   "outputs": [
    {
     "data": {
      "text/plain": [
       "'\\nExchange rate as follows:\\n1 USD = 1.58 NZD\\n1 AUD = 1.04 NZD\\n'"
      ]
     },
     "execution_count": 23,
     "metadata": {},
     "output_type": "execute_result"
    }
   ],
   "source": [
    "#normalise salaries to NZD\n",
    "\"\"\"\n",
    "Exchange rate as follows:\n",
    "1 USD = 1.58 NZD\n",
    "1 AUD = 1.04 NZD\n",
    "\"\"\""
   ]
  },
  {
   "cell_type": "code",
   "execution_count": null,
   "metadata": {},
   "outputs": [],
   "source": []
  },
  {
   "cell_type": "code",
   "execution_count": 24,
   "metadata": {},
   "outputs": [
    {
     "ename": "SyntaxError",
     "evalue": "invalid syntax (<ipython-input-24-fbebcfe60f68>, line 1)",
     "output_type": "error",
     "traceback": [
      "\u001b[0;36m  File \u001b[0;32m\"<ipython-input-24-fbebcfe60f68>\"\u001b[0;36m, line \u001b[0;32m1\u001b[0m\n\u001b[0;31m    glassDoorDf['meanPay'].apply(lambda x: if glassDoorDf['location']=='Australia': )\u001b[0m\n\u001b[0m                                            ^\u001b[0m\n\u001b[0;31mSyntaxError\u001b[0m\u001b[0;31m:\u001b[0m invalid syntax\n"
     ]
    }
   ],
   "source": [
    "glassDoorDf['meanPay'].apply(lambda x: if glassDoorDf['location']=='Australia': )"
   ]
  },
  {
   "cell_type": "code",
   "execution_count": null,
   "metadata": {},
   "outputs": [],
   "source": [
    "glassDoorDf.sample(10)"
   ]
  },
  {
   "cell_type": "code",
   "execution_count": null,
   "metadata": {},
   "outputs": [],
   "source": [
    "# glassDoorDfMainJobCategory = glassDoorDf[glassDoorDf['jobCategory']!= 'N/A']"
   ]
  },
  {
   "cell_type": "code",
   "execution_count": null,
   "metadata": {},
   "outputs": [],
   "source": [
    "# glassDoorDfMainJobCategory.sample(50)"
   ]
  },
  {
   "cell_type": "code",
   "execution_count": null,
   "metadata": {},
   "outputs": [],
   "source": [
    "#non-normalised\n",
    "grid = sns.FacetGrid(glassDoorDf, row='jobCategory', col='location', size=2.2, aspect=1.6)\n",
    "grid.map(sns.barplot, 'meanPay', alpha=.5, ci=None)\n",
    "grid.add_legend()"
   ]
  },
  {
   "cell_type": "code",
   "execution_count": null,
   "metadata": {},
   "outputs": [],
   "source": [
    "#mean of mean pay for data science, data analysis, machine learning engineer, data engineer positions for all three countries\n",
    "glassDoorDf[['jobCategory', 'meanPay']].groupby(glassDoorDf['location'], as_index=False).mean().sort_values(by='meanPay', ascending=False)"
   ]
  },
  {
   "cell_type": "code",
   "execution_count": null,
   "metadata": {},
   "outputs": [],
   "source": []
  }
 ],
 "metadata": {
  "kernelspec": {
   "display_name": "Python 3",
   "language": "python",
   "name": "python3"
  },
  "language_info": {
   "codemirror_mode": {
    "name": "ipython",
    "version": 3
   },
   "file_extension": ".py",
   "mimetype": "text/x-python",
   "name": "python",
   "nbconvert_exporter": "python",
   "pygments_lexer": "ipython3",
   "version": "3.7.3"
  }
 },
 "nbformat": 4,
 "nbformat_minor": 2
}
